{
 "cells": [
  {
   "cell_type": "code",
   "execution_count": 1,
   "id": "initial_id",
   "metadata": {
    "collapsed": true,
    "ExecuteTime": {
     "end_time": "2024-01-03T11:48:00.382844500Z",
     "start_time": "2024-01-03T11:47:58.009602600Z"
    }
   },
   "outputs": [],
   "source": [
    "import numpy as np\n",
    "import matplotlib.pyplot as plt\n",
    "import mne\n",
    "from sklearn.pipeline import Pipeline\n",
    "from sklearn.discriminant_analysis import LinearDiscriminantAnalysis\n",
    "from sklearn.metrics import accuracy_score\n",
    "from make_mymodel.csp import CSP\n",
    "import os\n",
    "from sklearn.svm import SVC\n",
    "import pymysql"
   ]
  },
  {
   "cell_type": "code",
   "execution_count": 2,
   "outputs": [
    {
     "name": "stdout",
     "output_type": "stream",
     "text": [
      "['S100R01.edf', 'S100R02.edf', 'S100R03.edf', 'S100R04.edf', 'S100R05.edf', 'S100R06.edf', 'S100R07.edf', 'S100R08.edf', 'S100R09.edf', 'S100R10.edf', 'S100R11.edf', 'S100R12.edf', 'S100R13.edf', 'S100R14.edf']\n",
      "['S101R01.edf', 'S101R02.edf', 'S101R03.edf', 'S101R04.edf', 'S101R05.edf', 'S101R06.edf', 'S101R07.edf', 'S101R08.edf', 'S101R09.edf', 'S101R10.edf', 'S101R11.edf', 'S101R12.edf', 'S101R13.edf', 'S101R14.edf']\n",
      "['S102R01.edf', 'S102R02.edf', 'S102R03.edf', 'S102R04.edf', 'S102R05.edf', 'S102R06.edf', 'S102R07.edf', 'S102R08.edf', 'S102R09.edf', 'S102R10.edf', 'S102R11.edf', 'S102R12.edf', 'S102R13.edf', 'S102R14.edf']\n",
      "['S103R01.edf', 'S103R02.edf', 'S103R03.edf', 'S103R04.edf', 'S103R05.edf', 'S103R06.edf', 'S103R07.edf', 'S103R08.edf', 'S103R09.edf', 'S103R10.edf', 'S103R11.edf', 'S103R12.edf', 'S103R13.edf', 'S103R14.edf']\n",
      "['S104R01.edf', 'S104R02.edf', 'S104R03.edf', 'S104R04.edf', 'S104R05.edf', 'S104R06.edf', 'S104R07.edf', 'S104R08.edf', 'S104R09.edf', 'S104R10.edf', 'S104R11.edf', 'S104R12.edf', 'S104R13.edf', 'S104R14.edf']\n",
      "['S105R01.edf', 'S105R02.edf', 'S105R03.edf', 'S105R04.edf', 'S105R05.edf', 'S105R06.edf', 'S105R07.edf', 'S105R08.edf', 'S105R09.edf', 'S105R10.edf', 'S105R11.edf', 'S105R12.edf', 'S105R13.edf', 'S105R14.edf']\n",
      "['S106R01.edf', 'S106R02.edf', 'S106R03.edf', 'S106R04.edf', 'S106R05.edf', 'S106R06.edf', 'S106R07.edf', 'S106R08.edf', 'S106R09.edf', 'S106R10.edf', 'S106R11.edf', 'S106R12.edf', 'S106R13.edf', 'S106R14.edf']\n",
      "['S107R01.edf', 'S107R02.edf', 'S107R03.edf', 'S107R04.edf', 'S107R05.edf', 'S107R06.edf', 'S107R07.edf', 'S107R08.edf', 'S107R09.edf', 'S107R10.edf', 'S107R11.edf', 'S107R12.edf', 'S107R13.edf', 'S107R14.edf']\n",
      "['S108R01.edf', 'S108R02.edf', 'S108R03.edf', 'S108R04.edf', 'S108R05.edf', 'S108R06.edf', 'S108R07.edf', 'S108R08.edf', 'S108R09.edf', 'S108R10.edf', 'S108R11.edf', 'S108R12.edf', 'S108R13.edf', 'S108R14.edf']\n"
     ]
    }
   ],
   "source": [
    "for i in range(100,109):\n",
    "    dir_str = r'C:\\\\Users\\\\24242\\\\Desktop\\\\AI_Reference\\\\data_bag\\\\EEG-files\\\\S'+ str(i)\n",
    "    file_name = os.listdir(dir_str)\n",
    "    filter_files = [file for file in file_name if file.endswith('.edf')]\n",
    "    print(filter_files)"
   ],
   "metadata": {
    "collapsed": false,
    "ExecuteTime": {
     "end_time": "2024-01-03T11:48:00.401080300Z",
     "start_time": "2024-01-03T11:48:00.382844500Z"
    }
   },
   "id": "bbafb7fa04094e48"
  },
  {
   "cell_type": "code",
   "execution_count": 3,
   "outputs": [
    {
     "name": "stdout",
     "output_type": "stream",
     "text": [
      "Extracting EDF parameters from C:\\Users\\24242\\Desktop\\AI_Reference\\data_bag\\EEG-files\\S001\\S001R03.edf...\n",
      "EDF file detected\n",
      "Setting channel info structure...\n",
      "Creating raw.info structure...\n",
      "Reading 0 ... 19999  =      0.000 ...   124.994 secs...\n",
      "Extracting EDF parameters from C:\\Users\\24242\\Desktop\\AI_Reference\\data_bag\\EEG-files\\S001\\S001R04.edf...\n",
      "EDF file detected\n",
      "Setting channel info structure...\n",
      "Creating raw.info structure...\n",
      "Reading 0 ... 19999  =      0.000 ...   124.994 secs...\n",
      "Extracting EDF parameters from C:\\Users\\24242\\Desktop\\AI_Reference\\data_bag\\EEG-files\\S001\\S001R05.edf...\n",
      "EDF file detected\n",
      "Setting channel info structure...\n",
      "Creating raw.info structure...\n",
      "Reading 0 ... 19999  =      0.000 ...   124.994 secs...\n",
      "Extracting EDF parameters from C:\\Users\\24242\\Desktop\\AI_Reference\\data_bag\\EEG-files\\S001\\S001R06.edf...\n",
      "EDF file detected\n",
      "Setting channel info structure...\n",
      "Creating raw.info structure...\n",
      "Reading 0 ... 19999  =      0.000 ...   124.994 secs...\n",
      "Extracting EDF parameters from C:\\Users\\24242\\Desktop\\AI_Reference\\data_bag\\EEG-files\\S001\\S001R07.edf...\n",
      "EDF file detected\n",
      "Setting channel info structure...\n",
      "Creating raw.info structure...\n",
      "Reading 0 ... 19999  =      0.000 ...   124.994 secs...\n",
      "Extracting EDF parameters from C:\\Users\\24242\\Desktop\\AI_Reference\\data_bag\\EEG-files\\S001\\S001R08.edf...\n",
      "EDF file detected\n",
      "Setting channel info structure...\n",
      "Creating raw.info structure...\n",
      "Reading 0 ... 19999  =      0.000 ...   124.994 secs...\n",
      "Extracting EDF parameters from C:\\Users\\24242\\Desktop\\AI_Reference\\data_bag\\EEG-files\\S001\\S001R09.edf...\n",
      "EDF file detected\n",
      "Setting channel info structure...\n",
      "Creating raw.info structure...\n",
      "Reading 0 ... 19999  =      0.000 ...   124.994 secs...\n",
      "Extracting EDF parameters from C:\\Users\\24242\\Desktop\\AI_Reference\\data_bag\\EEG-files\\S001\\S001R10.edf...\n",
      "EDF file detected\n",
      "Setting channel info structure...\n",
      "Creating raw.info structure...\n",
      "Reading 0 ... 19999  =      0.000 ...   124.994 secs...\n",
      "Extracting EDF parameters from C:\\Users\\24242\\Desktop\\AI_Reference\\data_bag\\EEG-files\\S001\\S001R11.edf...\n",
      "EDF file detected\n",
      "Setting channel info structure...\n",
      "Creating raw.info structure...\n",
      "Reading 0 ... 19999  =      0.000 ...   124.994 secs...\n",
      "Extracting EDF parameters from C:\\Users\\24242\\Desktop\\AI_Reference\\data_bag\\EEG-files\\S001\\S001R12.edf...\n",
      "EDF file detected\n",
      "Setting channel info structure...\n",
      "Creating raw.info structure...\n",
      "Reading 0 ... 19999  =      0.000 ...   124.994 secs...\n",
      "Extracting EDF parameters from C:\\Users\\24242\\Desktop\\AI_Reference\\data_bag\\EEG-files\\S001\\S001R13.edf...\n",
      "EDF file detected\n",
      "Setting channel info structure...\n",
      "Creating raw.info structure...\n",
      "Reading 0 ... 19999  =      0.000 ...   124.994 secs...\n",
      "Extracting EDF parameters from C:\\Users\\24242\\Desktop\\AI_Reference\\data_bag\\EEG-files\\S001\\S001R11.edf...\n",
      "EDF file detected\n",
      "Setting channel info structure...\n",
      "Creating raw.info structure...\n",
      "Reading 0 ... 19999  =      0.000 ...   124.994 secs...\n"
     ]
    }
   ],
   "source": [
    "raw = mne.io.read_raw_edf('C:\\\\Users\\\\24242\\\\Desktop\\\\AI_Reference\\\\data_bag\\\\EEG-files\\\\S001\\\\S001R03.edf',preload=True)\n",
    "raw1 = mne.io.read_raw_edf('C:\\\\Users\\\\24242\\\\Desktop\\\\AI_Reference\\\\data_bag\\\\EEG-files\\\\S001\\\\S001R04.edf',preload=True)\n",
    "raw2 = mne.io.read_raw_edf('C:\\\\Users\\\\24242\\\\Desktop\\\\AI_Reference\\\\data_bag\\\\EEG-files\\\\S001\\\\S001R05.edf',preload=True)\n",
    "raw3 = mne.io.read_raw_edf('C:\\\\Users\\\\24242\\\\Desktop\\\\AI_Reference\\\\data_bag\\\\EEG-files\\\\S001\\\\S001R06.edf',preload=True)\n",
    "raw4 = mne.io.read_raw_edf('C:\\\\Users\\\\24242\\\\Desktop\\\\AI_Reference\\\\data_bag\\\\EEG-files\\\\S001\\\\S001R07.edf',preload=True)\n",
    "raw5 = mne.io.read_raw_edf('C:\\\\Users\\\\24242\\\\Desktop\\\\AI_Reference\\\\data_bag\\\\EEG-files\\\\S001\\\\S001R08.edf',preload=True)\n",
    "raw6 = mne.io.read_raw_edf('C:\\\\Users\\\\24242\\\\Desktop\\\\AI_Reference\\\\data_bag\\\\EEG-files\\\\S001\\\\S001R09.edf',preload=True)\n",
    "raw7 = mne.io.read_raw_edf('C:\\\\Users\\\\24242\\\\Desktop\\\\AI_Reference\\\\data_bag\\\\EEG-files\\\\S001\\\\S001R10.edf',preload=True)\n",
    "raw8 = mne.io.read_raw_edf('C:\\\\Users\\\\24242\\\\Desktop\\\\AI_Reference\\\\data_bag\\\\EEG-files\\\\S001\\\\S001R11.edf',preload=True)\n",
    "raw9 = mne.io.read_raw_edf('C:\\\\Users\\\\24242\\\\Desktop\\\\AI_Reference\\\\data_bag\\\\EEG-files\\\\S001\\\\S001R12.edf',preload=True)\n",
    "raw10 = mne.io.read_raw_edf('C:\\\\Users\\\\24242\\\\Desktop\\\\AI_Reference\\\\data_bag\\\\EEG-files\\\\S001\\\\S001R13.edf',preload=True)\n",
    "raw11 = mne.io.read_raw_edf('C:\\\\Users\\\\24242\\\\Desktop\\\\AI_Reference\\\\data_bag\\\\EEG-files\\\\S001\\\\S001R11.edf',preload=True)"
   ],
   "metadata": {
    "collapsed": false,
    "ExecuteTime": {
     "end_time": "2024-01-03T11:48:01.030193300Z",
     "start_time": "2024-01-03T11:48:00.396695500Z"
    }
   },
   "id": "1aa20ec1436414a4"
  },
  {
   "cell_type": "code",
   "execution_count": 4,
   "outputs": [],
   "source": [
    "def choose_event_Epochs_data(raw):\n",
    "    event,event_id = mne.events_from_annotations(raw)\n",
    "    event_pick_id = [2,3]\n",
    "    pick_event = mne.pick_events(event,include=event_pick_id)\n",
    "    event_new_id = {'T1':2,'T3':3}\n",
    "    epochs = mne.Epochs(raw,pick_event,event_new_id,tmin=-1,tmax=5,preload=True)\n",
    "    label = epochs.events[:,-1]\n",
    "    epochs.load_data().filter(l_freq=8,h_freq=12)\n",
    "    data = epochs.get_data()\n",
    "    print(data.shape,label.shape)\n",
    "    return data,label"
   ],
   "metadata": {
    "collapsed": false,
    "ExecuteTime": {
     "end_time": "2024-01-03T11:48:01.049987400Z",
     "start_time": "2024-01-03T11:48:01.029091800Z"
    }
   },
   "id": "4f352135ec155406"
  },
  {
   "cell_type": "code",
   "execution_count": 5,
   "outputs": [
    {
     "name": "stdout",
     "output_type": "stream",
     "text": [
      "Used Annotations descriptions: ['T0', 'T1', 'T2']\n",
      "Not setting metadata\n",
      "15 matching events found\n",
      "Setting baseline interval to [-1.0, 0.0] s\n",
      "Applying baseline correction (mode: mean)\n",
      "0 projection items activated\n",
      "Using data from preloaded Raw for 15 events and 961 original time points ...\n",
      "1 bad epochs dropped\n",
      "Setting up band-pass filter from 8 - 12 Hz\n",
      "\n",
      "FIR filter parameters\n",
      "---------------------\n",
      "Designing a one-pass, zero-phase, non-causal bandpass filter:\n",
      "- Windowed time-domain design (firwin) method\n",
      "- Hamming window with 0.0194 passband ripple and 53 dB stopband attenuation\n",
      "- Lower passband edge: 8.00\n",
      "- Lower transition bandwidth: 2.00 Hz (-6 dB cutoff frequency: 7.00 Hz)\n",
      "- Upper passband edge: 12.00 Hz\n",
      "- Upper transition bandwidth: 3.00 Hz (-6 dB cutoff frequency: 13.50 Hz)\n",
      "- Filter length: 265 samples (1.656 s)\n",
      "(14, 64, 961) (14,)\n"
     ]
    },
    {
     "name": "stderr",
     "output_type": "stream",
     "text": [
      "[Parallel(n_jobs=1)]: Done  17 tasks      | elapsed:    0.0s\n",
      "[Parallel(n_jobs=1)]: Done  71 tasks      | elapsed:    0.0s\n",
      "[Parallel(n_jobs=1)]: Done 161 tasks      | elapsed:    0.0s\n",
      "[Parallel(n_jobs=1)]: Done 287 tasks      | elapsed:    0.0s\n",
      "[Parallel(n_jobs=1)]: Done 449 tasks      | elapsed:    0.0s\n",
      "[Parallel(n_jobs=1)]: Done 647 tasks      | elapsed:    0.0s\n",
      "[Parallel(n_jobs=1)]: Done 881 tasks      | elapsed:    0.0s\n"
     ]
    }
   ],
   "source": [
    "data,label = choose_event_Epochs_data(raw)"
   ],
   "metadata": {
    "collapsed": false,
    "ExecuteTime": {
     "end_time": "2024-01-03T11:48:01.203836500Z",
     "start_time": "2024-01-03T11:48:01.042552900Z"
    }
   },
   "id": "81c3965c45e75e0a"
  },
  {
   "cell_type": "code",
   "execution_count": 6,
   "outputs": [
    {
     "name": "stdout",
     "output_type": "stream",
     "text": [
      "Used Annotations descriptions: ['T0', 'T1', 'T2']\n",
      "Not setting metadata\n",
      "15 matching events found\n",
      "Setting baseline interval to [-1.0, 0.0] s\n",
      "Applying baseline correction (mode: mean)\n",
      "0 projection items activated\n",
      "Using data from preloaded Raw for 15 events and 961 original time points ...\n",
      "1 bad epochs dropped\n",
      "Setting up band-pass filter from 8 - 12 Hz\n",
      "\n",
      "FIR filter parameters\n",
      "---------------------\n",
      "Designing a one-pass, zero-phase, non-causal bandpass filter:\n",
      "- Windowed time-domain design (firwin) method\n",
      "- Hamming window with 0.0194 passband ripple and 53 dB stopband attenuation\n",
      "- Lower passband edge: 8.00\n",
      "- Lower transition bandwidth: 2.00 Hz (-6 dB cutoff frequency: 7.00 Hz)\n",
      "- Upper passband edge: 12.00 Hz\n",
      "- Upper transition bandwidth: 3.00 Hz (-6 dB cutoff frequency: 13.50 Hz)\n",
      "- Filter length: 265 samples (1.656 s)\n"
     ]
    },
    {
     "name": "stderr",
     "output_type": "stream",
     "text": [
      "[Parallel(n_jobs=1)]: Done  17 tasks      | elapsed:    0.0s\n",
      "[Parallel(n_jobs=1)]: Done  71 tasks      | elapsed:    0.0s\n",
      "[Parallel(n_jobs=1)]: Done 161 tasks      | elapsed:    0.0s\n",
      "[Parallel(n_jobs=1)]: Done 287 tasks      | elapsed:    0.0s\n",
      "[Parallel(n_jobs=1)]: Done 449 tasks      | elapsed:    0.0s\n",
      "[Parallel(n_jobs=1)]: Done 647 tasks      | elapsed:    0.0s\n"
     ]
    },
    {
     "name": "stdout",
     "output_type": "stream",
     "text": [
      "(14, 64, 961) (14,)\n"
     ]
    },
    {
     "name": "stderr",
     "output_type": "stream",
     "text": [
      "[Parallel(n_jobs=1)]: Done 881 tasks      | elapsed:    0.0s\n"
     ]
    }
   ],
   "source": [
    "data1,label1 = choose_event_Epochs_data(raw1)"
   ],
   "metadata": {
    "collapsed": false,
    "ExecuteTime": {
     "end_time": "2024-01-03T11:48:01.306000200Z",
     "start_time": "2024-01-03T11:48:01.165352100Z"
    }
   },
   "id": "e551d1f286d8aa54"
  },
  {
   "cell_type": "code",
   "execution_count": 7,
   "outputs": [
    {
     "name": "stdout",
     "output_type": "stream",
     "text": [
      "Used Annotations descriptions: ['T0', 'T1', 'T2']\n",
      "Not setting metadata\n",
      "15 matching events found\n",
      "Setting baseline interval to [-1.0, 0.0] s\n",
      "Applying baseline correction (mode: mean)\n",
      "0 projection items activated\n",
      "Using data from preloaded Raw for 15 events and 961 original time points ...\n",
      "1 bad epochs dropped\n",
      "Setting up band-pass filter from 8 - 12 Hz\n",
      "\n",
      "FIR filter parameters\n",
      "---------------------\n",
      "Designing a one-pass, zero-phase, non-causal bandpass filter:\n",
      "- Windowed time-domain design (firwin) method\n",
      "- Hamming window with 0.0194 passband ripple and 53 dB stopband attenuation\n",
      "- Lower passband edge: 8.00\n",
      "- Lower transition bandwidth: 2.00 Hz (-6 dB cutoff frequency: 7.00 Hz)\n",
      "- Upper passband edge: 12.00 Hz\n",
      "- Upper transition bandwidth: 3.00 Hz (-6 dB cutoff frequency: 13.50 Hz)\n",
      "- Filter length: 265 samples (1.656 s)\n"
     ]
    },
    {
     "name": "stderr",
     "output_type": "stream",
     "text": [
      "[Parallel(n_jobs=1)]: Done  17 tasks      | elapsed:    0.0s\n",
      "[Parallel(n_jobs=1)]: Done  71 tasks      | elapsed:    0.0s\n",
      "[Parallel(n_jobs=1)]: Done 161 tasks      | elapsed:    0.0s\n",
      "[Parallel(n_jobs=1)]: Done 287 tasks      | elapsed:    0.0s\n",
      "[Parallel(n_jobs=1)]: Done 449 tasks      | elapsed:    0.0s\n",
      "[Parallel(n_jobs=1)]: Done 647 tasks      | elapsed:    0.0s\n"
     ]
    },
    {
     "name": "stdout",
     "output_type": "stream",
     "text": [
      "(14, 64, 961) (14,)\n"
     ]
    },
    {
     "name": "stderr",
     "output_type": "stream",
     "text": [
      "[Parallel(n_jobs=1)]: Done 881 tasks      | elapsed:    0.0s\n"
     ]
    }
   ],
   "source": [
    "data2,label2 = choose_event_Epochs_data(raw2)"
   ],
   "metadata": {
    "collapsed": false,
    "ExecuteTime": {
     "end_time": "2024-01-03T11:48:01.511691Z",
     "start_time": "2024-01-03T11:48:01.292914600Z"
    }
   },
   "id": "4f32bbf225ef9e12"
  },
  {
   "cell_type": "code",
   "execution_count": 8,
   "outputs": [
    {
     "name": "stdout",
     "output_type": "stream",
     "text": [
      "Used Annotations descriptions: ['T0', 'T1', 'T2']\n",
      "Not setting metadata\n",
      "15 matching events found\n",
      "Setting baseline interval to [-1.0, 0.0] s\n",
      "Applying baseline correction (mode: mean)\n",
      "0 projection items activated\n",
      "Using data from preloaded Raw for 15 events and 961 original time points ...\n",
      "1 bad epochs dropped\n",
      "Setting up band-pass filter from 8 - 12 Hz\n",
      "\n",
      "FIR filter parameters\n",
      "---------------------\n",
      "Designing a one-pass, zero-phase, non-causal bandpass filter:\n",
      "- Windowed time-domain design (firwin) method\n",
      "- Hamming window with 0.0194 passband ripple and 53 dB stopband attenuation\n",
      "- Lower passband edge: 8.00\n",
      "- Lower transition bandwidth: 2.00 Hz (-6 dB cutoff frequency: 7.00 Hz)\n",
      "- Upper passband edge: 12.00 Hz\n",
      "- Upper transition bandwidth: 3.00 Hz (-6 dB cutoff frequency: 13.50 Hz)\n",
      "- Filter length: 265 samples (1.656 s)\n"
     ]
    },
    {
     "name": "stderr",
     "output_type": "stream",
     "text": [
      "[Parallel(n_jobs=1)]: Done  17 tasks      | elapsed:    0.0s\n",
      "[Parallel(n_jobs=1)]: Done  71 tasks      | elapsed:    0.0s\n",
      "[Parallel(n_jobs=1)]: Done 161 tasks      | elapsed:    0.0s\n",
      "[Parallel(n_jobs=1)]: Done 287 tasks      | elapsed:    0.0s\n",
      "[Parallel(n_jobs=1)]: Done 449 tasks      | elapsed:    0.0s\n",
      "[Parallel(n_jobs=1)]: Done 647 tasks      | elapsed:    0.0s\n"
     ]
    },
    {
     "name": "stdout",
     "output_type": "stream",
     "text": [
      "(14, 64, 961) (14,)\n"
     ]
    },
    {
     "name": "stderr",
     "output_type": "stream",
     "text": [
      "[Parallel(n_jobs=1)]: Done 881 tasks      | elapsed:    0.0s\n"
     ]
    }
   ],
   "source": [
    "data3,label3 = choose_event_Epochs_data(raw3)"
   ],
   "metadata": {
    "collapsed": false,
    "ExecuteTime": {
     "end_time": "2024-01-03T11:48:01.637331500Z",
     "start_time": "2024-01-03T11:48:01.419753200Z"
    }
   },
   "id": "e309ac74c728cbc4"
  },
  {
   "cell_type": "code",
   "execution_count": 9,
   "outputs": [
    {
     "name": "stdout",
     "output_type": "stream",
     "text": [
      "Used Annotations descriptions: ['T0', 'T1', 'T2']\n",
      "Not setting metadata\n",
      "15 matching events found\n",
      "Setting baseline interval to [-1.0, 0.0] s\n",
      "Applying baseline correction (mode: mean)\n",
      "0 projection items activated\n",
      "Using data from preloaded Raw for 15 events and 961 original time points ...\n",
      "1 bad epochs dropped\n",
      "Setting up band-pass filter from 8 - 12 Hz\n",
      "\n",
      "FIR filter parameters\n",
      "---------------------\n",
      "Designing a one-pass, zero-phase, non-causal bandpass filter:\n",
      "- Windowed time-domain design (firwin) method\n",
      "- Hamming window with 0.0194 passband ripple and 53 dB stopband attenuation\n",
      "- Lower passband edge: 8.00\n",
      "- Lower transition bandwidth: 2.00 Hz (-6 dB cutoff frequency: 7.00 Hz)\n",
      "- Upper passband edge: 12.00 Hz\n",
      "- Upper transition bandwidth: 3.00 Hz (-6 dB cutoff frequency: 13.50 Hz)\n",
      "- Filter length: 265 samples (1.656 s)\n"
     ]
    },
    {
     "name": "stderr",
     "output_type": "stream",
     "text": [
      "[Parallel(n_jobs=1)]: Done  17 tasks      | elapsed:    0.0s\n",
      "[Parallel(n_jobs=1)]: Done  71 tasks      | elapsed:    0.0s\n",
      "[Parallel(n_jobs=1)]: Done 161 tasks      | elapsed:    0.0s\n",
      "[Parallel(n_jobs=1)]: Done 287 tasks      | elapsed:    0.0s\n",
      "[Parallel(n_jobs=1)]: Done 449 tasks      | elapsed:    0.0s\n",
      "[Parallel(n_jobs=1)]: Done 647 tasks      | elapsed:    0.0s\n"
     ]
    },
    {
     "name": "stdout",
     "output_type": "stream",
     "text": [
      "(14, 64, 961) (14,)\n"
     ]
    },
    {
     "name": "stderr",
     "output_type": "stream",
     "text": [
      "[Parallel(n_jobs=1)]: Done 881 tasks      | elapsed:    0.0s\n"
     ]
    }
   ],
   "source": [
    "data4,label4 = choose_event_Epochs_data(raw4)"
   ],
   "metadata": {
    "collapsed": false,
    "ExecuteTime": {
     "end_time": "2024-01-03T11:48:01.785718500Z",
     "start_time": "2024-01-03T11:48:01.546883200Z"
    }
   },
   "id": "e0b4bbd9dd75139e"
  },
  {
   "cell_type": "code",
   "execution_count": 10,
   "outputs": [
    {
     "name": "stdout",
     "output_type": "stream",
     "text": [
      "Used Annotations descriptions: ['T0', 'T1', 'T2']\n",
      "Not setting metadata\n",
      "15 matching events found\n",
      "Setting baseline interval to [-1.0, 0.0] s\n",
      "Applying baseline correction (mode: mean)\n",
      "0 projection items activated\n",
      "Using data from preloaded Raw for 15 events and 961 original time points ...\n",
      "1 bad epochs dropped\n",
      "Setting up band-pass filter from 8 - 12 Hz\n",
      "\n",
      "FIR filter parameters\n",
      "---------------------\n",
      "Designing a one-pass, zero-phase, non-causal bandpass filter:\n",
      "- Windowed time-domain design (firwin) method\n",
      "- Hamming window with 0.0194 passband ripple and 53 dB stopband attenuation\n",
      "- Lower passband edge: 8.00\n",
      "- Lower transition bandwidth: 2.00 Hz (-6 dB cutoff frequency: 7.00 Hz)\n",
      "- Upper passband edge: 12.00 Hz\n",
      "- Upper transition bandwidth: 3.00 Hz (-6 dB cutoff frequency: 13.50 Hz)\n",
      "- Filter length: 265 samples (1.656 s)\n"
     ]
    },
    {
     "name": "stderr",
     "output_type": "stream",
     "text": [
      "[Parallel(n_jobs=1)]: Done  17 tasks      | elapsed:    0.0s\n",
      "[Parallel(n_jobs=1)]: Done  71 tasks      | elapsed:    0.0s\n",
      "[Parallel(n_jobs=1)]: Done 161 tasks      | elapsed:    0.0s\n",
      "[Parallel(n_jobs=1)]: Done 287 tasks      | elapsed:    0.0s\n",
      "[Parallel(n_jobs=1)]: Done 449 tasks      | elapsed:    0.0s\n",
      "[Parallel(n_jobs=1)]: Done 647 tasks      | elapsed:    0.0s\n",
      "[Parallel(n_jobs=1)]: Done 881 tasks      | elapsed:    0.0s\n"
     ]
    },
    {
     "name": "stdout",
     "output_type": "stream",
     "text": [
      "(14, 64, 961) (14,)\n"
     ]
    }
   ],
   "source": [
    "data5,label5 = choose_event_Epochs_data(raw5)"
   ],
   "metadata": {
    "collapsed": false,
    "ExecuteTime": {
     "end_time": "2024-01-03T11:48:01.938576700Z",
     "start_time": "2024-01-03T11:48:01.687848100Z"
    }
   },
   "id": "67d0b341927b8e08"
  },
  {
   "cell_type": "code",
   "execution_count": 11,
   "outputs": [
    {
     "name": "stdout",
     "output_type": "stream",
     "text": [
      "Used Annotations descriptions: ['T0', 'T1', 'T2']\n",
      "Not setting metadata\n",
      "15 matching events found\n",
      "Setting baseline interval to [-1.0, 0.0] s\n",
      "Applying baseline correction (mode: mean)\n",
      "0 projection items activated\n",
      "Using data from preloaded Raw for 15 events and 961 original time points ...\n",
      "1 bad epochs dropped\n",
      "Setting up band-pass filter from 8 - 12 Hz\n",
      "\n",
      "FIR filter parameters\n",
      "---------------------\n",
      "Designing a one-pass, zero-phase, non-causal bandpass filter:\n",
      "- Windowed time-domain design (firwin) method\n",
      "- Hamming window with 0.0194 passband ripple and 53 dB stopband attenuation\n",
      "- Lower passband edge: 8.00\n",
      "- Lower transition bandwidth: 2.00 Hz (-6 dB cutoff frequency: 7.00 Hz)\n",
      "- Upper passband edge: 12.00 Hz\n",
      "- Upper transition bandwidth: 3.00 Hz (-6 dB cutoff frequency: 13.50 Hz)\n",
      "- Filter length: 265 samples (1.656 s)\n"
     ]
    },
    {
     "name": "stderr",
     "output_type": "stream",
     "text": [
      "[Parallel(n_jobs=1)]: Done  17 tasks      | elapsed:    0.0s\n",
      "[Parallel(n_jobs=1)]: Done  71 tasks      | elapsed:    0.0s\n",
      "[Parallel(n_jobs=1)]: Done 161 tasks      | elapsed:    0.0s\n",
      "[Parallel(n_jobs=1)]: Done 287 tasks      | elapsed:    0.0s\n",
      "[Parallel(n_jobs=1)]: Done 449 tasks      | elapsed:    0.0s\n"
     ]
    },
    {
     "name": "stdout",
     "output_type": "stream",
     "text": [
      "(14, 64, 961) (14,)\n"
     ]
    },
    {
     "name": "stderr",
     "output_type": "stream",
     "text": [
      "[Parallel(n_jobs=1)]: Done 647 tasks      | elapsed:    0.0s\n",
      "[Parallel(n_jobs=1)]: Done 881 tasks      | elapsed:    0.0s\n"
     ]
    }
   ],
   "source": [
    "data6,label6 = choose_event_Epochs_data(raw6)"
   ],
   "metadata": {
    "collapsed": false,
    "ExecuteTime": {
     "end_time": "2024-01-03T11:48:02.074809700Z",
     "start_time": "2024-01-03T11:48:01.825823500Z"
    }
   },
   "id": "7a670ba615b4140c"
  },
  {
   "cell_type": "code",
   "execution_count": 12,
   "outputs": [
    {
     "name": "stdout",
     "output_type": "stream",
     "text": [
      "Used Annotations descriptions: ['T0', 'T1', 'T2']\n",
      "Not setting metadata\n",
      "15 matching events found\n",
      "Setting baseline interval to [-1.0, 0.0] s\n",
      "Applying baseline correction (mode: mean)\n",
      "0 projection items activated\n",
      "Using data from preloaded Raw for 15 events and 961 original time points ...\n",
      "1 bad epochs dropped\n",
      "Setting up band-pass filter from 8 - 12 Hz\n",
      "\n",
      "FIR filter parameters\n",
      "---------------------\n",
      "Designing a one-pass, zero-phase, non-causal bandpass filter:\n",
      "- Windowed time-domain design (firwin) method\n",
      "- Hamming window with 0.0194 passband ripple and 53 dB stopband attenuation\n",
      "- Lower passband edge: 8.00\n",
      "- Lower transition bandwidth: 2.00 Hz (-6 dB cutoff frequency: 7.00 Hz)\n",
      "- Upper passband edge: 12.00 Hz\n",
      "- Upper transition bandwidth: 3.00 Hz (-6 dB cutoff frequency: 13.50 Hz)\n",
      "- Filter length: 265 samples (1.656 s)\n"
     ]
    },
    {
     "name": "stderr",
     "output_type": "stream",
     "text": [
      "[Parallel(n_jobs=1)]: Done  17 tasks      | elapsed:    0.0s\n",
      "[Parallel(n_jobs=1)]: Done  71 tasks      | elapsed:    0.0s\n",
      "[Parallel(n_jobs=1)]: Done 161 tasks      | elapsed:    0.0s\n",
      "[Parallel(n_jobs=1)]: Done 287 tasks      | elapsed:    0.0s\n",
      "[Parallel(n_jobs=1)]: Done 449 tasks      | elapsed:    0.0s\n",
      "[Parallel(n_jobs=1)]: Done 647 tasks      | elapsed:    0.0s\n"
     ]
    },
    {
     "name": "stdout",
     "output_type": "stream",
     "text": [
      "(14, 64, 961) (14,)\n"
     ]
    },
    {
     "name": "stderr",
     "output_type": "stream",
     "text": [
      "[Parallel(n_jobs=1)]: Done 881 tasks      | elapsed:    0.0s\n"
     ]
    }
   ],
   "source": [
    "data7,label7 = choose_event_Epochs_data(raw7)"
   ],
   "metadata": {
    "collapsed": false,
    "ExecuteTime": {
     "end_time": "2024-01-03T11:48:02.170142200Z",
     "start_time": "2024-01-03T11:48:01.966646400Z"
    }
   },
   "id": "bd7730d2c855cc29"
  },
  {
   "cell_type": "code",
   "execution_count": 13,
   "outputs": [
    {
     "name": "stdout",
     "output_type": "stream",
     "text": [
      "Used Annotations descriptions: ['T0', 'T1', 'T2']\n",
      "Not setting metadata\n",
      "15 matching events found\n",
      "Setting baseline interval to [-1.0, 0.0] s\n",
      "Applying baseline correction (mode: mean)\n",
      "0 projection items activated\n",
      "Using data from preloaded Raw for 15 events and 961 original time points ...\n",
      "1 bad epochs dropped\n",
      "Setting up band-pass filter from 8 - 12 Hz\n",
      "\n",
      "FIR filter parameters\n",
      "---------------------\n",
      "Designing a one-pass, zero-phase, non-causal bandpass filter:\n",
      "- Windowed time-domain design (firwin) method\n",
      "- Hamming window with 0.0194 passband ripple and 53 dB stopband attenuation\n",
      "- Lower passband edge: 8.00\n",
      "- Lower transition bandwidth: 2.00 Hz (-6 dB cutoff frequency: 7.00 Hz)\n",
      "- Upper passband edge: 12.00 Hz\n",
      "- Upper transition bandwidth: 3.00 Hz (-6 dB cutoff frequency: 13.50 Hz)\n",
      "- Filter length: 265 samples (1.656 s)\n"
     ]
    },
    {
     "name": "stderr",
     "output_type": "stream",
     "text": [
      "[Parallel(n_jobs=1)]: Done  17 tasks      | elapsed:    0.0s\n",
      "[Parallel(n_jobs=1)]: Done  71 tasks      | elapsed:    0.0s\n",
      "[Parallel(n_jobs=1)]: Done 161 tasks      | elapsed:    0.0s\n",
      "[Parallel(n_jobs=1)]: Done 287 tasks      | elapsed:    0.0s\n",
      "[Parallel(n_jobs=1)]: Done 449 tasks      | elapsed:    0.0s\n",
      "[Parallel(n_jobs=1)]: Done 647 tasks      | elapsed:    0.0s\n"
     ]
    },
    {
     "name": "stdout",
     "output_type": "stream",
     "text": [
      "(14, 64, 961) (14,)\n"
     ]
    },
    {
     "name": "stderr",
     "output_type": "stream",
     "text": [
      "[Parallel(n_jobs=1)]: Done 881 tasks      | elapsed:    0.0s\n"
     ]
    }
   ],
   "source": [
    "data8,label8 = choose_event_Epochs_data(raw8)"
   ],
   "metadata": {
    "collapsed": false,
    "ExecuteTime": {
     "end_time": "2024-01-03T11:48:02.279818400Z",
     "start_time": "2024-01-03T11:48:02.088931500Z"
    }
   },
   "id": "d96506677fae1ea2"
  },
  {
   "cell_type": "code",
   "execution_count": 14,
   "outputs": [
    {
     "name": "stdout",
     "output_type": "stream",
     "text": [
      "Used Annotations descriptions: ['T0', 'T1', 'T2']\n",
      "Not setting metadata\n",
      "15 matching events found\n",
      "Setting baseline interval to [-1.0, 0.0] s\n",
      "Applying baseline correction (mode: mean)\n",
      "0 projection items activated\n",
      "Using data from preloaded Raw for 15 events and 961 original time points ...\n",
      "1 bad epochs dropped\n",
      "Setting up band-pass filter from 8 - 12 Hz\n",
      "\n",
      "FIR filter parameters\n",
      "---------------------\n",
      "Designing a one-pass, zero-phase, non-causal bandpass filter:\n",
      "- Windowed time-domain design (firwin) method\n",
      "- Hamming window with 0.0194 passband ripple and 53 dB stopband attenuation\n",
      "- Lower passband edge: 8.00\n",
      "- Lower transition bandwidth: 2.00 Hz (-6 dB cutoff frequency: 7.00 Hz)\n",
      "- Upper passband edge: 12.00 Hz\n",
      "- Upper transition bandwidth: 3.00 Hz (-6 dB cutoff frequency: 13.50 Hz)\n",
      "- Filter length: 265 samples (1.656 s)\n"
     ]
    },
    {
     "name": "stderr",
     "output_type": "stream",
     "text": [
      "[Parallel(n_jobs=1)]: Done  17 tasks      | elapsed:    0.0s\n",
      "[Parallel(n_jobs=1)]: Done  71 tasks      | elapsed:    0.0s\n",
      "[Parallel(n_jobs=1)]: Done 161 tasks      | elapsed:    0.0s\n",
      "[Parallel(n_jobs=1)]: Done 287 tasks      | elapsed:    0.0s\n",
      "[Parallel(n_jobs=1)]: Done 449 tasks      | elapsed:    0.0s\n",
      "[Parallel(n_jobs=1)]: Done 647 tasks      | elapsed:    0.0s\n"
     ]
    },
    {
     "name": "stdout",
     "output_type": "stream",
     "text": [
      "(14, 64, 961) (14,)\n"
     ]
    },
    {
     "name": "stderr",
     "output_type": "stream",
     "text": [
      "[Parallel(n_jobs=1)]: Done 881 tasks      | elapsed:    0.0s\n"
     ]
    }
   ],
   "source": [
    "data9,label9 = choose_event_Epochs_data(raw9)"
   ],
   "metadata": {
    "collapsed": false,
    "ExecuteTime": {
     "end_time": "2024-01-03T11:48:02.412031700Z",
     "start_time": "2024-01-03T11:48:02.215891100Z"
    }
   },
   "id": "a5c338594250d135"
  },
  {
   "cell_type": "code",
   "execution_count": 15,
   "outputs": [
    {
     "name": "stdout",
     "output_type": "stream",
     "text": [
      "Used Annotations descriptions: ['T0', 'T1', 'T2']\n",
      "Not setting metadata\n",
      "15 matching events found\n",
      "Setting baseline interval to [-1.0, 0.0] s\n",
      "Applying baseline correction (mode: mean)\n",
      "0 projection items activated\n",
      "Using data from preloaded Raw for 15 events and 961 original time points ...\n",
      "1 bad epochs dropped\n",
      "Setting up band-pass filter from 8 - 12 Hz\n",
      "\n",
      "FIR filter parameters\n",
      "---------------------\n",
      "Designing a one-pass, zero-phase, non-causal bandpass filter:\n",
      "- Windowed time-domain design (firwin) method\n",
      "- Hamming window with 0.0194 passband ripple and 53 dB stopband attenuation\n",
      "- Lower passband edge: 8.00\n",
      "- Lower transition bandwidth: 2.00 Hz (-6 dB cutoff frequency: 7.00 Hz)\n",
      "- Upper passband edge: 12.00 Hz\n",
      "- Upper transition bandwidth: 3.00 Hz (-6 dB cutoff frequency: 13.50 Hz)\n",
      "- Filter length: 265 samples (1.656 s)\n"
     ]
    },
    {
     "name": "stderr",
     "output_type": "stream",
     "text": [
      "[Parallel(n_jobs=1)]: Done  17 tasks      | elapsed:    0.0s\n",
      "[Parallel(n_jobs=1)]: Done  71 tasks      | elapsed:    0.0s\n",
      "[Parallel(n_jobs=1)]: Done 161 tasks      | elapsed:    0.0s\n",
      "[Parallel(n_jobs=1)]: Done 287 tasks      | elapsed:    0.0s\n",
      "[Parallel(n_jobs=1)]: Done 449 tasks      | elapsed:    0.0s\n",
      "[Parallel(n_jobs=1)]: Done 647 tasks      | elapsed:    0.0s\n"
     ]
    },
    {
     "name": "stdout",
     "output_type": "stream",
     "text": [
      "(14, 64, 961) (14,)\n",
      "Used Annotations descriptions: ['T0', 'T1', 'T2']\n",
      "Not setting metadata\n",
      "15 matching events found\n",
      "Setting baseline interval to [-1.0, 0.0] s\n",
      "Applying baseline correction (mode: mean)\n",
      "0 projection items activated\n",
      "Using data from preloaded Raw for 15 events and 961 original time points ...\n",
      "1 bad epochs dropped\n"
     ]
    },
    {
     "name": "stderr",
     "output_type": "stream",
     "text": [
      "[Parallel(n_jobs=1)]: Done 881 tasks      | elapsed:    0.0s\n"
     ]
    },
    {
     "name": "stdout",
     "output_type": "stream",
     "text": [
      "Setting up band-pass filter from 8 - 12 Hz\n",
      "\n",
      "FIR filter parameters\n",
      "---------------------\n",
      "Designing a one-pass, zero-phase, non-causal bandpass filter:\n",
      "- Windowed time-domain design (firwin) method\n",
      "- Hamming window with 0.0194 passband ripple and 53 dB stopband attenuation\n",
      "- Lower passband edge: 8.00\n",
      "- Lower transition bandwidth: 2.00 Hz (-6 dB cutoff frequency: 7.00 Hz)\n",
      "- Upper passband edge: 12.00 Hz\n",
      "- Upper transition bandwidth: 3.00 Hz (-6 dB cutoff frequency: 13.50 Hz)\n",
      "- Filter length: 265 samples (1.656 s)\n"
     ]
    },
    {
     "name": "stderr",
     "output_type": "stream",
     "text": [
      "[Parallel(n_jobs=1)]: Done  17 tasks      | elapsed:    0.0s\n",
      "[Parallel(n_jobs=1)]: Done  71 tasks      | elapsed:    0.0s\n",
      "[Parallel(n_jobs=1)]: Done 161 tasks      | elapsed:    0.0s\n",
      "[Parallel(n_jobs=1)]: Done 287 tasks      | elapsed:    0.0s\n",
      "[Parallel(n_jobs=1)]: Done 449 tasks      | elapsed:    0.0s\n",
      "[Parallel(n_jobs=1)]: Done 647 tasks      | elapsed:    0.0s\n"
     ]
    },
    {
     "name": "stdout",
     "output_type": "stream",
     "text": [
      "(14, 64, 961) (14,)\n"
     ]
    },
    {
     "name": "stderr",
     "output_type": "stream",
     "text": [
      "[Parallel(n_jobs=1)]: Done 881 tasks      | elapsed:    0.0s\n"
     ]
    }
   ],
   "source": [
    "data10,label10 = choose_event_Epochs_data(raw10)\n",
    "data11,label11 = choose_event_Epochs_data(raw11)"
   ],
   "metadata": {
    "collapsed": false,
    "ExecuteTime": {
     "end_time": "2024-01-03T11:48:02.645916700Z",
     "start_time": "2024-01-03T11:48:02.342427600Z"
    }
   },
   "id": "a89eb50d8a898de1"
  },
  {
   "cell_type": "code",
   "execution_count": 16,
   "outputs": [],
   "source": [
    "def gather_data(data,data1,label,label1):\n",
    "    data2 = np.concatenate((data,data1),axis=0)\n",
    "    label2 = np.append(label,label1)\n",
    "    return data2,label2\n",
    "    "
   ],
   "metadata": {
    "collapsed": false,
    "ExecuteTime": {
     "end_time": "2024-01-03T11:48:02.645916700Z",
     "start_time": "2024-01-03T11:48:02.593800100Z"
    }
   },
   "id": "e61ab4a26426ef41"
  },
  {
   "cell_type": "code",
   "execution_count": 17,
   "outputs": [],
   "source": [
    "data_2,label_2 = gather_data(data,data1,label,label1)\n",
    "data_3,label_3 = gather_data(data_2,data2,label_2,label2)\n",
    "data_4,label_4 = gather_data(data_3,data3,label_3,label3)\n",
    "data_5,label_5 = gather_data(data_4,data4,label_4,label4)\n",
    "data_6,label_6 = gather_data(data_5,data5,label_5,label5)\n",
    "data_all,label_all = gather_data(data_6,data6,label_6,label6)\n",
    "data_all,label_all = gather_data(data_all,data7,label_all,label7)\n",
    "Test_data,Test_label = gather_data(data8,data9,label8,label9)\n",
    "Test_data,Test_label = gather_data(Test_data,data10,Test_label,label10)\n",
    "Test_data,Test_label = gather_data(Test_data,data11,Test_label,label11)"
   ],
   "metadata": {
    "collapsed": false,
    "ExecuteTime": {
     "end_time": "2024-01-03T11:48:02.704848300Z",
     "start_time": "2024-01-03T11:48:02.611571400Z"
    }
   },
   "id": "c82ba8e5bdd55537"
  },
  {
   "cell_type": "code",
   "execution_count": 18,
   "outputs": [
    {
     "data": {
      "text/plain": "(112, 64, 961)"
     },
     "execution_count": 18,
     "metadata": {},
     "output_type": "execute_result"
    }
   ],
   "source": [
    "data_all.shape"
   ],
   "metadata": {
    "collapsed": false,
    "ExecuteTime": {
     "end_time": "2024-01-03T11:48:02.734191100Z",
     "start_time": "2024-01-03T11:48:02.689837800Z"
    }
   },
   "id": "5f4f13520c78ff58"
  },
  {
   "cell_type": "code",
   "execution_count": 19,
   "outputs": [
    {
     "data": {
      "text/plain": "(112,)"
     },
     "execution_count": 19,
     "metadata": {},
     "output_type": "execute_result"
    }
   ],
   "source": [
    "label_all.shape"
   ],
   "metadata": {
    "collapsed": false,
    "ExecuteTime": {
     "end_time": "2024-01-03T11:48:02.735193600Z",
     "start_time": "2024-01-03T11:48:02.704848300Z"
    }
   },
   "id": "ef4d80c8e71501e2"
  },
  {
   "cell_type": "code",
   "execution_count": 20,
   "outputs": [
    {
     "data": {
      "text/plain": "((56, 64, 961), (56,))"
     },
     "execution_count": 20,
     "metadata": {},
     "output_type": "execute_result"
    }
   ],
   "source": [
    "Test_data.shape,Test_label.shape"
   ],
   "metadata": {
    "collapsed": false,
    "ExecuteTime": {
     "end_time": "2024-01-03T11:48:02.800790900Z",
     "start_time": "2024-01-03T11:48:02.722047400Z"
    }
   },
   "id": "88f48d1769e1e1f3"
  },
  {
   "cell_type": "code",
   "execution_count": 21,
   "outputs": [
    {
     "data": {
      "text/plain": "Pipeline(steps=[('csp', CSP(n_components=6)),\n                ('lda', LinearDiscriminantAnalysis())])",
      "text/html": "<style>#sk-container-id-1 {color: black;}#sk-container-id-1 pre{padding: 0;}#sk-container-id-1 div.sk-toggleable {background-color: white;}#sk-container-id-1 label.sk-toggleable__label {cursor: pointer;display: block;width: 100%;margin-bottom: 0;padding: 0.3em;box-sizing: border-box;text-align: center;}#sk-container-id-1 label.sk-toggleable__label-arrow:before {content: \"▸\";float: left;margin-right: 0.25em;color: #696969;}#sk-container-id-1 label.sk-toggleable__label-arrow:hover:before {color: black;}#sk-container-id-1 div.sk-estimator:hover label.sk-toggleable__label-arrow:before {color: black;}#sk-container-id-1 div.sk-toggleable__content {max-height: 0;max-width: 0;overflow: hidden;text-align: left;background-color: #f0f8ff;}#sk-container-id-1 div.sk-toggleable__content pre {margin: 0.2em;color: black;border-radius: 0.25em;background-color: #f0f8ff;}#sk-container-id-1 input.sk-toggleable__control:checked~div.sk-toggleable__content {max-height: 200px;max-width: 100%;overflow: auto;}#sk-container-id-1 input.sk-toggleable__control:checked~label.sk-toggleable__label-arrow:before {content: \"▾\";}#sk-container-id-1 div.sk-estimator input.sk-toggleable__control:checked~label.sk-toggleable__label {background-color: #d4ebff;}#sk-container-id-1 div.sk-label input.sk-toggleable__control:checked~label.sk-toggleable__label {background-color: #d4ebff;}#sk-container-id-1 input.sk-hidden--visually {border: 0;clip: rect(1px 1px 1px 1px);clip: rect(1px, 1px, 1px, 1px);height: 1px;margin: -1px;overflow: hidden;padding: 0;position: absolute;width: 1px;}#sk-container-id-1 div.sk-estimator {font-family: monospace;background-color: #f0f8ff;border: 1px dotted black;border-radius: 0.25em;box-sizing: border-box;margin-bottom: 0.5em;}#sk-container-id-1 div.sk-estimator:hover {background-color: #d4ebff;}#sk-container-id-1 div.sk-parallel-item::after {content: \"\";width: 100%;border-bottom: 1px solid gray;flex-grow: 1;}#sk-container-id-1 div.sk-label:hover label.sk-toggleable__label {background-color: #d4ebff;}#sk-container-id-1 div.sk-serial::before {content: \"\";position: absolute;border-left: 1px solid gray;box-sizing: border-box;top: 0;bottom: 0;left: 50%;z-index: 0;}#sk-container-id-1 div.sk-serial {display: flex;flex-direction: column;align-items: center;background-color: white;padding-right: 0.2em;padding-left: 0.2em;position: relative;}#sk-container-id-1 div.sk-item {position: relative;z-index: 1;}#sk-container-id-1 div.sk-parallel {display: flex;align-items: stretch;justify-content: center;background-color: white;position: relative;}#sk-container-id-1 div.sk-item::before, #sk-container-id-1 div.sk-parallel-item::before {content: \"\";position: absolute;border-left: 1px solid gray;box-sizing: border-box;top: 0;bottom: 0;left: 50%;z-index: -1;}#sk-container-id-1 div.sk-parallel-item {display: flex;flex-direction: column;z-index: 1;position: relative;background-color: white;}#sk-container-id-1 div.sk-parallel-item:first-child::after {align-self: flex-end;width: 50%;}#sk-container-id-1 div.sk-parallel-item:last-child::after {align-self: flex-start;width: 50%;}#sk-container-id-1 div.sk-parallel-item:only-child::after {width: 0;}#sk-container-id-1 div.sk-dashed-wrapped {border: 1px dashed gray;margin: 0 0.4em 0.5em 0.4em;box-sizing: border-box;padding-bottom: 0.4em;background-color: white;}#sk-container-id-1 div.sk-label label {font-family: monospace;font-weight: bold;display: inline-block;line-height: 1.2em;}#sk-container-id-1 div.sk-label-container {text-align: center;}#sk-container-id-1 div.sk-container {/* jupyter's `normalize.less` sets `[hidden] { display: none; }` but bootstrap.min.css set `[hidden] { display: none !important; }` so we also need the `!important` here to be able to override the default hidden behavior on the sphinx rendered scikit-learn.org. See: https://github.com/scikit-learn/scikit-learn/issues/21755 */display: inline-block !important;position: relative;}#sk-container-id-1 div.sk-text-repr-fallback {display: none;}</style><div id=\"sk-container-id-1\" class=\"sk-top-container\"><div class=\"sk-text-repr-fallback\"><pre>Pipeline(steps=[(&#x27;csp&#x27;, CSP(n_components=6)),\n                (&#x27;lda&#x27;, LinearDiscriminantAnalysis())])</pre><b>In a Jupyter environment, please rerun this cell to show the HTML representation or trust the notebook. <br />On GitHub, the HTML representation is unable to render, please try loading this page with nbviewer.org.</b></div><div class=\"sk-container\" hidden><div class=\"sk-item sk-dashed-wrapped\"><div class=\"sk-label-container\"><div class=\"sk-label sk-toggleable\"><input class=\"sk-toggleable__control sk-hidden--visually\" id=\"sk-estimator-id-1\" type=\"checkbox\" ><label for=\"sk-estimator-id-1\" class=\"sk-toggleable__label sk-toggleable__label-arrow\">Pipeline</label><div class=\"sk-toggleable__content\"><pre>Pipeline(steps=[(&#x27;csp&#x27;, CSP(n_components=6)),\n                (&#x27;lda&#x27;, LinearDiscriminantAnalysis())])</pre></div></div></div><div class=\"sk-serial\"><div class=\"sk-item\"><div class=\"sk-estimator sk-toggleable\"><input class=\"sk-toggleable__control sk-hidden--visually\" id=\"sk-estimator-id-2\" type=\"checkbox\" ><label for=\"sk-estimator-id-2\" class=\"sk-toggleable__label sk-toggleable__label-arrow\">CSP</label><div class=\"sk-toggleable__content\"><pre>CSP(n_components=6)</pre></div></div></div><div class=\"sk-item\"><div class=\"sk-estimator sk-toggleable\"><input class=\"sk-toggleable__control sk-hidden--visually\" id=\"sk-estimator-id-3\" type=\"checkbox\" ><label for=\"sk-estimator-id-3\" class=\"sk-toggleable__label sk-toggleable__label-arrow\">LinearDiscriminantAnalysis</label><div class=\"sk-toggleable__content\"><pre>LinearDiscriminantAnalysis()</pre></div></div></div></div></div></div></div>"
     },
     "execution_count": 21,
     "metadata": {},
     "output_type": "execute_result"
    }
   ],
   "source": [
    "# 构建管道模型\n",
    "clf = Pipeline([('csp',CSP(n_components=6)),('lda',LinearDiscriminantAnalysis())])\n",
    "clf.fit(data_all,label_all)"
   ],
   "metadata": {
    "collapsed": false,
    "ExecuteTime": {
     "end_time": "2024-01-03T11:48:02.956854800Z",
     "start_time": "2024-01-03T11:48:02.737198800Z"
    }
   },
   "id": "7ddda9552f971cb5"
  },
  {
   "cell_type": "code",
   "execution_count": 22,
   "outputs": [
    {
     "data": {
      "text/plain": "0.6964285714285714"
     },
     "execution_count": 22,
     "metadata": {},
     "output_type": "execute_result"
    }
   ],
   "source": [
    "y_pred = clf.predict(Test_data)\n",
    "accuracy_score(y_pred,Test_label)"
   ],
   "metadata": {
    "collapsed": false,
    "ExecuteTime": {
     "end_time": "2024-01-03T11:48:02.979745200Z",
     "start_time": "2024-01-03T11:48:02.938403500Z"
    }
   },
   "id": "77828e2cf34ea191"
  },
  {
   "cell_type": "code",
   "execution_count": 23,
   "outputs": [],
   "source": [
    "# 利用随机森林分类进行预测\n",
    "from sklearn.ensemble import RandomForestClassifier\n",
    "number = [10,20,30,40,50,60,70,80,90,100]\n",
    "acc_list = []\n",
    "def clf_create(data_all,label_all,data,label):\n",
    "    for i in number:\n",
    "        clf = Pipeline([('csp',CSP(n_components=6)),('rf',RandomForestClassifier(n_estimators=i))])\n",
    "        clf.fit(data_all,label_all)\n",
    "        y_pred = clf.predict(data)\n",
    "        acc = accuracy_score(y_pred,label)\n",
    "        acc_list.append(acc)\n",
    "    print(acc_list)\n",
    "    plt.plot(number,acc_list)\n",
    "    plt.show()"
   ],
   "metadata": {
    "collapsed": false,
    "ExecuteTime": {
     "end_time": "2024-01-03T11:48:03.056128600Z",
     "start_time": "2024-01-03T11:48:02.970774600Z"
    }
   },
   "id": "24ce0b62176ff020"
  },
  {
   "cell_type": "code",
   "execution_count": 24,
   "outputs": [
    {
     "name": "stdout",
     "output_type": "stream",
     "text": [
      "[0.5892857142857143, 0.6607142857142857, 0.5714285714285714, 0.6071428571428571, 0.625, 0.625, 0.625, 0.6071428571428571, 0.5714285714285714, 0.5714285714285714]\n"
     ]
    },
    {
     "data": {
      "text/plain": "<Figure size 640x480 with 1 Axes>",
      "image/png": "[encoded data removed]"
     },
     "metadata": {},
     "output_type": "display_data"
    }
   ],
   "source": [
    "clf_create(data_all,label_all,Test_data,Test_label)"
   ],
   "metadata": {
    "collapsed": false,
    "ExecuteTime": {
     "end_time": "2024-01-03T11:48:05.156414700Z",
     "start_time": "2024-01-03T11:48:03.049110900Z"
    }
   },
   "id": "c0d14fe50a690a6f"
  },
  {
   "cell_type": "code",
   "execution_count": 25,
   "outputs": [
    {
     "data": {
      "text/plain": "Pipeline(steps=[('csp', CSP(n_components=6)),\n                ('svm',\n                 SVC(C=0.5, kernel='linear', max_iter=1000, probability=True))])",
      "text/html": "<style>#sk-container-id-2 {color: black;}#sk-container-id-2 pre{padding: 0;}#sk-container-id-2 div.sk-toggleable {background-color: white;}#sk-container-id-2 label.sk-toggleable__label {cursor: pointer;display: block;width: 100%;margin-bottom: 0;padding: 0.3em;box-sizing: border-box;text-align: center;}#sk-container-id-2 label.sk-toggleable__label-arrow:before {content: \"▸\";float: left;margin-right: 0.25em;color: #696969;}#sk-container-id-2 label.sk-toggleable__label-arrow:hover:before {color: black;}#sk-container-id-2 div.sk-estimator:hover label.sk-toggleable__label-arrow:before {color: black;}#sk-container-id-2 div.sk-toggleable__content {max-height: 0;max-width: 0;overflow: hidden;text-align: left;background-color: #f0f8ff;}#sk-container-id-2 div.sk-toggleable__content pre {margin: 0.2em;color: black;border-radius: 0.25em;background-color: #f0f8ff;}#sk-container-id-2 input.sk-toggleable__control:checked~div.sk-toggleable__content {max-height: 200px;max-width: 100%;overflow: auto;}#sk-container-id-2 input.sk-toggleable__control:checked~label.sk-toggleable__label-arrow:before {content: \"▾\";}#sk-container-id-2 div.sk-estimator input.sk-toggleable__control:checked~label.sk-toggleable__label {background-color: #d4ebff;}#sk-container-id-2 div.sk-label input.sk-toggleable__control:checked~label.sk-toggleable__label {background-color: #d4ebff;}#sk-container-id-2 input.sk-hidden--visually {border: 0;clip: rect(1px 1px 1px 1px);clip: rect(1px, 1px, 1px, 1px);height: 1px;margin: -1px;overflow: hidden;padding: 0;position: absolute;width: 1px;}#sk-container-id-2 div.sk-estimator {font-family: monospace;background-color: #f0f8ff;border: 1px dotted black;border-radius: 0.25em;box-sizing: border-box;margin-bottom: 0.5em;}#sk-container-id-2 div.sk-estimator:hover {background-color: #d4ebff;}#sk-container-id-2 div.sk-parallel-item::after {content: \"\";width: 100%;border-bottom: 1px solid gray;flex-grow: 1;}#sk-container-id-2 div.sk-label:hover label.sk-toggleable__label {background-color: #d4ebff;}#sk-container-id-2 div.sk-serial::before {content: \"\";position: absolute;border-left: 1px solid gray;box-sizing: border-box;top: 0;bottom: 0;left: 50%;z-index: 0;}#sk-container-id-2 div.sk-serial {display: flex;flex-direction: column;align-items: center;background-color: white;padding-right: 0.2em;padding-left: 0.2em;position: relative;}#sk-container-id-2 div.sk-item {position: relative;z-index: 1;}#sk-container-id-2 div.sk-parallel {display: flex;align-items: stretch;justify-content: center;background-color: white;position: relative;}#sk-container-id-2 div.sk-item::before, #sk-container-id-2 div.sk-parallel-item::before {content: \"\";position: absolute;border-left: 1px solid gray;box-sizing: border-box;top: 0;bottom: 0;left: 50%;z-index: -1;}#sk-container-id-2 div.sk-parallel-item {display: flex;flex-direction: column;z-index: 1;position: relative;background-color: white;}#sk-container-id-2 div.sk-parallel-item:first-child::after {align-self: flex-end;width: 50%;}#sk-container-id-2 div.sk-parallel-item:last-child::after {align-self: flex-start;width: 50%;}#sk-container-id-2 div.sk-parallel-item:only-child::after {width: 0;}#sk-container-id-2 div.sk-dashed-wrapped {border: 1px dashed gray;margin: 0 0.4em 0.5em 0.4em;box-sizing: border-box;padding-bottom: 0.4em;background-color: white;}#sk-container-id-2 div.sk-label label {font-family: monospace;font-weight: bold;display: inline-block;line-height: 1.2em;}#sk-container-id-2 div.sk-label-container {text-align: center;}#sk-container-id-2 div.sk-container {/* jupyter's `normalize.less` sets `[hidden] { display: none; }` but bootstrap.min.css set `[hidden] { display: none !important; }` so we also need the `!important` here to be able to override the default hidden behavior on the sphinx rendered scikit-learn.org. See: https://github.com/scikit-learn/scikit-learn/issues/21755 */display: inline-block !important;position: relative;}#sk-container-id-2 div.sk-text-repr-fallback {display: none;}</style><div id=\"sk-container-id-2\" class=\"sk-top-container\"><div class=\"sk-text-repr-fallback\"><pre>Pipeline(steps=[(&#x27;csp&#x27;, CSP(n_components=6)),\n                (&#x27;svm&#x27;,\n                 SVC(C=0.5, kernel=&#x27;linear&#x27;, max_iter=1000, probability=True))])</pre><b>In a Jupyter environment, please rerun this cell to show the HTML representation or trust the notebook. <br />On GitHub, the HTML representation is unable to render, please try loading this page with nbviewer.org.</b></div><div class=\"sk-container\" hidden><div class=\"sk-item sk-dashed-wrapped\"><div class=\"sk-label-container\"><div class=\"sk-label sk-toggleable\"><input class=\"sk-toggleable__control sk-hidden--visually\" id=\"sk-estimator-id-4\" type=\"checkbox\" ><label for=\"sk-estimator-id-4\" class=\"sk-toggleable__label sk-toggleable__label-arrow\">Pipeline</label><div class=\"sk-toggleable__content\"><pre>Pipeline(steps=[(&#x27;csp&#x27;, CSP(n_components=6)),\n                (&#x27;svm&#x27;,\n                 SVC(C=0.5, kernel=&#x27;linear&#x27;, max_iter=1000, probability=True))])</pre></div></div></div><div class=\"sk-serial\"><div class=\"sk-item\"><div class=\"sk-estimator sk-toggleable\"><input class=\"sk-toggleable__control sk-hidden--visually\" id=\"sk-estimator-id-5\" type=\"checkbox\" ><label for=\"sk-estimator-id-5\" class=\"sk-toggleable__label sk-toggleable__label-arrow\">CSP</label><div class=\"sk-toggleable__content\"><pre>CSP(n_components=6)</pre></div></div></div><div class=\"sk-item\"><div class=\"sk-estimator sk-toggleable\"><input class=\"sk-toggleable__control sk-hidden--visually\" id=\"sk-estimator-id-6\" type=\"checkbox\" ><label for=\"sk-estimator-id-6\" class=\"sk-toggleable__label sk-toggleable__label-arrow\">SVC</label><div class=\"sk-toggleable__content\"><pre>SVC(C=0.5, kernel=&#x27;linear&#x27;, max_iter=1000, probability=True)</pre></div></div></div></div></div></div></div>"
     },
     "execution_count": 25,
     "metadata": {},
     "output_type": "execute_result"
    }
   ],
   "source": [
    "# 利用CSP与svm构造管道\n",
    "clf = Pipeline([('csp',CSP(n_components=6)),('svm',SVC(C=0.5,kernel='linear',max_iter=1000,probability=True))])\n",
    "clf.fit(data_all,label_all)"
   ],
   "metadata": {
    "collapsed": false,
    "ExecuteTime": {
     "end_time": "2024-01-03T11:48:05.308550700Z",
     "start_time": "2024-01-03T11:48:05.152389400Z"
    }
   },
   "id": "4d0a73c05e54dac7"
  },
  {
   "cell_type": "code",
   "execution_count": 26,
   "outputs": [],
   "source": [
    "y_pred_svm = clf.predict(Test_data)\n",
    "acc_svm = accuracy_score(y_pred=y_pred,y_true=Test_label)"
   ],
   "metadata": {
    "collapsed": false,
    "ExecuteTime": {
     "end_time": "2024-01-03T11:48:05.332351700Z",
     "start_time": "2024-01-03T11:48:05.292506700Z"
    }
   },
   "id": "3f9e0b347d675bfe"
  },
  {
   "cell_type": "code",
   "execution_count": 27,
   "outputs": [
    {
     "data": {
      "text/plain": "0.6964285714285714"
     },
     "execution_count": 27,
     "metadata": {},
     "output_type": "execute_result"
    }
   ],
   "source": [
    "acc_svm"
   ],
   "metadata": {
    "collapsed": false,
    "ExecuteTime": {
     "end_time": "2024-01-03T11:48:05.389871900Z",
     "start_time": "2024-01-03T11:48:05.325179Z"
    }
   },
   "id": "40aebfd4cb9efd2b"
  },
  {
   "cell_type": "code",
   "execution_count": 28,
   "outputs": [
    {
     "name": "stdout",
     "output_type": "stream",
     "text": [
      "Extracting EDF parameters from C:\\Users\\24242\\Desktop\\AI_Reference\\data_bag\\EEG-files\\S002\\S002R03.edf...\n",
      "EDF file detected\n",
      "Setting channel info structure...\n",
      "Creating raw.info structure...\n"
     ]
    }
   ],
   "source": [
    "raw12 = mne.io.read_raw_edf('C:\\\\Users\\\\24242\\\\Desktop\\\\AI_Reference\\\\data_bag\\\\EEG-files\\\\S002\\\\S002R03.edf')"
   ],
   "metadata": {
    "collapsed": false,
    "ExecuteTime": {
     "end_time": "2024-01-03T11:48:05.412452400Z",
     "start_time": "2024-01-03T11:48:05.343804100Z"
    }
   },
   "id": "f648c7de214b69d"
  },
  {
   "cell_type": "code",
   "execution_count": 29,
   "outputs": [
    {
     "data": {
      "text/plain": "<Info | 8 non-empty values\n bads: []\n ch_names: Fc5., Fc3., Fc1., Fcz., Fc2., Fc4., Fc6., C5.., C3.., C1.., ...\n chs: 64 EEG\n custom_ref_applied: False\n highpass: 0.0 Hz\n lowpass: 80.0 Hz\n meas_date: 2009-08-12 16:15:00 UTC\n nchan: 64\n projs: []\n sfreq: 160.0 Hz\n subject_info: 3 items (dict)\n>",
      "text/html": "<table class=\"table table-hover table-striped table-sm table-responsive small\">\n    <tr>\n        <th>Measurement date</th>\n        \n        <td>August 12, 2009  16:15:00 GMT</td>\n        \n    </tr>\n    <tr>\n        <th>Experimenter</th>\n        \n        <td>Unknown</td>\n        \n    </tr>\n        <th>Participant</th>\n        \n            \n            <td>X</td>\n            \n        \n    </tr>\n    <tr>\n        <th>Digitized points</th>\n        \n        <td>Not available</td>\n        \n    </tr>\n    <tr>\n        <th>Good channels</th>\n        <td>64 EEG</td>\n    </tr>\n    <tr>\n        <th>Bad channels</th>\n        <td>None</td>\n    </tr>\n    <tr>\n        <th>EOG channels</th>\n        <td>Not available</td>\n    </tr>\n    <tr>\n        <th>ECG channels</th>\n        <td>Not available</td>\n    \n    <tr>\n        <th>Sampling frequency</th>\n        <td>160.00 Hz</td>\n    </tr>\n    \n    \n    <tr>\n        <th>Highpass</th>\n        <td>0.00 Hz</td>\n    </tr>\n    \n    \n    <tr>\n        <th>Lowpass</th>\n        <td>80.00 Hz</td>\n    </tr>\n    \n    \n</table>"
     },
     "execution_count": 29,
     "metadata": {},
     "output_type": "execute_result"
    }
   ],
   "source": [
    "raw12.info"
   ],
   "metadata": {
    "collapsed": false,
    "ExecuteTime": {
     "end_time": "2024-01-03T11:48:05.415520800Z",
     "start_time": "2024-01-03T11:48:05.356112Z"
    }
   },
   "id": "b82fe0d6203301b0"
  },
  {
   "cell_type": "code",
   "execution_count": 30,
   "outputs": [
    {
     "name": "stdout",
     "output_type": "stream",
     "text": [
      "Used Annotations descriptions: ['T0', 'T1', 'T2']\n",
      "[[    0     0     1]\n",
      " [  656     0     2]\n",
      " [ 1312     0     1]\n",
      " [ 1968     0     3]\n",
      " [ 2624     0     1]\n",
      " [ 3280     0     3]\n",
      " [ 3936     0     1]\n",
      " [ 4592     0     2]\n",
      " [ 5248     0     1]\n",
      " [ 5904     0     2]\n",
      " [ 6560     0     1]\n",
      " [ 7216     0     3]\n",
      " [ 7872     0     1]\n",
      " [ 8528     0     3]\n",
      " [ 9184     0     1]\n",
      " [ 9840     0     2]\n",
      " [10496     0     1]\n",
      " [11152     0     3]\n",
      " [11808     0     1]\n",
      " [12464     0     2]\n",
      " [13120     0     1]\n",
      " [13776     0     2]\n",
      " [14432     0     1]\n",
      " [15088     0     3]\n",
      " [15744     0     1]\n",
      " [16400     0     2]\n",
      " [17056     0     1]\n",
      " [17712     0     3]\n",
      " [18368     0     1]\n",
      " [19024     0     2]]\n",
      "{'T0': 1, 'T1': 2, 'T2': 3}\n"
     ]
    }
   ],
   "source": [
    "event,event_id = mne.events_from_annotations(raw12)\n",
    "print(event)\n",
    "print(event_id)"
   ],
   "metadata": {
    "collapsed": false,
    "ExecuteTime": {
     "end_time": "2024-01-03T11:48:05.482204600Z",
     "start_time": "2024-01-03T11:48:05.404029400Z"
    }
   },
   "id": "8aa3eee623cf0c48"
  },
  {
   "cell_type": "code",
   "execution_count": 31,
   "outputs": [
    {
     "data": {
      "text/plain": "array([[0.88013145, 0.11986855],\n       [0.66503161, 0.33496839],\n       [0.62509557, 0.37490443],\n       [0.95474809, 0.04525191],\n       [0.64718731, 0.35281269],\n       [0.84980972, 0.15019028],\n       [0.97731993, 0.02268007],\n       [0.53462498, 0.46537502],\n       [0.18230735, 0.81769265],\n       [0.90609905, 0.09390095],\n       [0.78163418, 0.21836582],\n       [0.05248376, 0.94751624],\n       [0.58959249, 0.41040751],\n       [0.66006088, 0.33993912],\n       [0.73223599, 0.26776401],\n       [0.27582873, 0.72417127],\n       [0.90874527, 0.09125473],\n       [0.40138725, 0.59861275],\n       [0.9081856 , 0.0918144 ],\n       [0.30211939, 0.69788061],\n       [0.3754146 , 0.6245854 ],\n       [0.93648422, 0.06351578],\n       [0.65642949, 0.34357051],\n       [0.27710471, 0.72289529],\n       [0.68522139, 0.31477861],\n       [0.5       , 0.5       ],\n       [0.64255364, 0.35744636],\n       [0.57030627, 0.42969373],\n       [0.91734418, 0.08265582],\n       [0.07698619, 0.92301381],\n       [0.9392205 , 0.0607795 ],\n       [0.02494049, 0.97505951],\n       [0.09574723, 0.90425277],\n       [0.28322485, 0.71677515],\n       [0.5599727 , 0.4400273 ],\n       [0.96857417, 0.03142583],\n       [0.30490711, 0.69509289],\n       [0.97715808, 0.02284192],\n       [0.98137807, 0.01862193],\n       [0.43210162, 0.56789838],\n       [0.11736071, 0.88263929],\n       [0.45180287, 0.54819713],\n       [0.88013145, 0.11986855],\n       [0.66503161, 0.33496839],\n       [0.62509557, 0.37490443],\n       [0.95474809, 0.04525191],\n       [0.64718731, 0.35281269],\n       [0.84980972, 0.15019028],\n       [0.97731993, 0.02268007],\n       [0.53462498, 0.46537502],\n       [0.18230735, 0.81769265],\n       [0.90609905, 0.09390095],\n       [0.78163418, 0.21836582],\n       [0.05248376, 0.94751624],\n       [0.58959249, 0.41040751],\n       [0.66006088, 0.33993912]])"
     },
     "execution_count": 31,
     "metadata": {},
     "output_type": "execute_result"
    }
   ],
   "source": [
    "y_pred_class = clf.predict_proba(Test_data)\n",
    "y_pred_class"
   ],
   "metadata": {
    "collapsed": false,
    "ExecuteTime": {
     "end_time": "2024-01-03T11:48:05.503454700Z",
     "start_time": "2024-01-03T11:48:05.419354800Z"
    }
   },
   "id": "e5cf71372781249f"
  },
  {
   "cell_type": "code",
   "execution_count": 32,
   "outputs": [],
   "source": [
    "connect = pymysql.connect(host='localhost',port=3306,db='ml-eeg-classification',user='chaos',password='Aa112233')"
   ],
   "metadata": {
    "collapsed": false,
    "ExecuteTime": {
     "end_time": "2024-01-03T11:48:05.504475100Z",
     "start_time": "2024-01-03T11:48:05.452241500Z"
    }
   },
   "id": "58f36c80195da571"
  },
  {
   "cell_type": "code",
   "execution_count": 33,
   "outputs": [],
   "source": [
    "db = connect.cursor()"
   ],
   "metadata": {
    "collapsed": false,
    "ExecuteTime": {
     "end_time": "2024-01-03T11:48:05.504475100Z",
     "start_time": "2024-01-03T11:48:05.467648900Z"
    }
   },
   "id": "4ae133c59e1f5d12"
  },
  {
   "cell_type": "code",
   "execution_count": 36,
   "outputs": [],
   "source": [
    "for i in range(len(number)):\n",
    "    num = number[i]\n",
    "    id = i + 1\n",
    "    acc = acc_list[i]\n",
    "    sql =  \"INSERT INTO randomforest_data VALUES (%s, %s, %s)\"\n",
    "    \n",
    "    db.execute(sql,(id,num,acc))\n",
    "connect.commit()\n"
   ],
   "metadata": {
    "collapsed": false,
    "ExecuteTime": {
     "end_time": "2024-01-03T11:54:23.714218100Z",
     "start_time": "2024-01-03T11:54:23.673709800Z"
    }
   },
   "id": "2d2c57e25a07acc7"
  },
  {
   "cell_type": "code",
   "execution_count": null,
   "outputs": [],
   "source": [],
   "metadata": {
    "collapsed": false
   },
   "id": "f6c3dc755cc4471e"
  }
 ],
 "metadata": {
  "kernelspec": {
   "display_name": "Python 3",
   "language": "python",
   "name": "python3"
  },
  "language_info": {
   "codemirror_mode": {
    "name": "ipython",
    "version": 2
   },
   "file_extension": ".py",
   "mimetype": "text/x-python",
   "name": "python",
   "nbconvert_exporter": "python",
   "pygments_lexer": "ipython2",
   "version": "2.7.6"
  }
 },
 "nbformat": 4,
 "nbformat_minor": 5
}
